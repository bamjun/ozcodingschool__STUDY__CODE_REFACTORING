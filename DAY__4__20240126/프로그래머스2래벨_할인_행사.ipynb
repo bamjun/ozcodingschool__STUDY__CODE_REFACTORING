{
  "nbformat": 4,
  "nbformat_minor": 0,
  "metadata": {
    "colab": {
      "provenance": []
    },
    "kernelspec": {
      "name": "python3",
      "display_name": "Python 3"
    },
    "language_info": {
      "name": "python"
    }
  },
  "cells": [
    {
      "cell_type": "markdown",
      "source": [
        "# 할인 행사\n",
        "https://school.programmers.co.kr/learn/courses/30/lessons/131127\n",
        "\n",
        "## 문제 설명\n",
        "XYZ 마트는 일정한 금액을 지불하면 10일 동안 회원 자격을 부여합니다. XYZ 마트에서는 회원을 대상으로 매일 한 가지 제품을 할인하는 행사를 합니다. 할인하는 제품은 하루에 하나씩만 구매할 수 있습니다. 알뜰한 정현이는 자신이 원하는 제품과 수량이 할인하는 날짜와 10일 연속으로 일치할 경우에 맞춰서 회원가입을 하려 합니다.\n",
        "\n",
        "예를 들어, 정현이가 원하는 제품이 바나나 3개, 사과 2개, 쌀 2개, 돼지고기 2개, 냄비 1개이며, XYZ 마트에서 15일간 회원을 대상으로 할인하는 제품이 날짜 순서대로 치킨, 사과, 사과, 바나나, 쌀, 사과, 돼지고기, 바나나, 돼지고기, 쌀, 냄비, 바나나, 사과, 바나나인 경우에 대해 알아봅시다. 첫째 날부터 열흘 간에는 냄비가 할인하지 않기 때문에 첫째 날에는 회원가입을 하지 않습니다. 둘째 날부터 열흘 간에는 바나나를 원하는 만큼 할인구매할 수 없기 때문에 둘째 날에도 회원가입을 하지 않습니다. 셋째 날, 넷째 날, 다섯째 날부터 각각 열흘은 원하는 제품과 수량이 일치하기 때문에 셋 중 하루에 회원가입을 하려 합니다.\n",
        "\n",
        "정현이가 원하는 제품을 나타내는 문자열 배열 want와 정현이가 원하는 제품의 수량을 나타내는 정수 배열 number, XYZ 마트에서 할인하는 제품을 나타내는 문자열 배열 discount가 주어졌을 때, 회원등록시 정현이가 원하는 제품을 모두 할인 받을 수 있는 회원등록 날짜의 총 일수를 return 하는 solution 함수를 완성하시오. 가능한 날이 없으면 0을 return 합니다.\n",
        "\n",
        "## 제한사항\n",
        "- 1 ≤ want의 길이 = number의 길이 ≤ 10\n",
        "- 1 ≤ number의 원소 ≤ 10\n",
        "- number[i]는 want[i]의 수량을 의미하며, number의 원소의 합은 10입니다.\n",
        "- 10 ≤ discount의 길이 ≤ 100,000\n",
        "- want와 discount의 원소들은 알파벳 소문자로 이루어진 문자열입니다.\n",
        "- 1 ≤ want의 원소의 길이, discount의 원소의 길이 ≤ 12\n",
        "\n",
        "## 입출력 예\n",
        "| want | number | discount | result |\n",
        "| --- | --- | --- | --- |\n",
        "| [\"banana\", \"apple\", \"rice\", \"pork\", \"pot\"] | [3, 2, 2, 2, 1] | [\"chicken\", \"apple\", \"apple\", \"banana\", \"rice\", \"apple\", \"pork\", \"banana\", \"pork\", \"rice\", \"pot\", \"banana\", \"apple\", \"banana\"] | 3 |\n",
        "| [\"apple\"] | [10] | [\"banana\", \"banana\", \"banana\", \"banana\", \"banana\", \"banana\", \"banana\", \"banana\", \"banana\", \"banana\"] | 0 |\n",
        "\n",
        "## 입출력 예 설명\n",
        "### 입출력 예 #1\n",
        "문제 예시와 같습니다.\n",
        "\n",
        "### 입출력 예 #2\n",
        "사과가 할인하는 날이 없으므로 0을 return 합니다.\n"
      ],
      "metadata": {
        "id": "kbI2EPSaivuB"
      }
    },
    {
      "cell_type": "code",
      "execution_count": 2,
      "metadata": {
        "id": "K7yr6V7QisIb",
        "colab": {
          "base_uri": "https://localhost:8080/"
        },
        "outputId": "4b1d6daf-3130-487c-95c7-6c28b298d6c2"
      },
      "outputs": [
        {
          "output_type": "stream",
          "name": "stdout",
          "text": [
            "Case 1: False\n",
            "V1 : 0 \n",
            "\n",
            "\n",
            "Case 2: True\n",
            "V2 : 0 \n",
            "\n",
            "\n"
          ]
        }
      ],
      "source": [
        "def solution(want, number, discount):\n",
        "    result = 0\n",
        "    # 여기에 solution 함수의 로직을 구현하세요.\n",
        "    return result\n",
        "\n",
        "# 입력 데이터\n",
        "want_lists = [[\"banana\", \"apple\", \"rice\", \"pork\", \"pot\"], [\"apple\"]]\n",
        "number_lists = [[3, 2, 2, 2, 1], [10]]\n",
        "discount_lists = [\n",
        "    [\"chicken\", \"apple\", \"apple\", \"banana\", \"rice\", \"apple\", \"pork\", \"banana\", \"pork\", \"rice\", \"pot\", \"banana\", \"apple\", \"banana\"],\n",
        "    [\"banana\", \"banana\", \"banana\", \"banana\", \"banana\", \"banana\", \"banana\", \"banana\", \"banana\", \"banana\"]\n",
        "]\n",
        "expected_results = [3, 0]\n",
        "\n",
        "# 각 경우에 대해 solution 함수를 실행하고 결과를 확인\n",
        "for i in range(len(want_lists)):\n",
        "    valueSolution = solution(want_lists[i], number_lists[i], discount_lists[i])\n",
        "    is_correct = valueSolution == expected_results[i]\n",
        "    print(f\"Case {i+1}: {is_correct}\")\n",
        "    print(f\"V{i+1} : {valueSolution} \\n\\n\")\n"
      ]
    },
    {
      "cell_type": "code",
      "source": [
        "from copy import deepcopy as dc\n",
        "\n",
        "def solution(want, number, discount):\n",
        "    answer = 0\n",
        "    dict = {}\n",
        "    for i,x in enumerate(want):\n",
        "        dict[x] = number[i]\n",
        "    for x in range(len(discount)):\n",
        "        dict_index = dc(dict)\n",
        "        index = 0\n",
        "        for y in range(x, len(discount)):\n",
        "            index += 1\n",
        "            if discount[y] in dict_index:\n",
        "                if dict_index[discount[y]] != 0:\n",
        "                    dict_index[discount[y]] -= 1\n",
        "            if sum(dict_index.values()) == 0:\n",
        "                answer += 1\n",
        "                break\n",
        "            if index == 10:\n",
        "                break\n",
        "    return answer\n",
        "\n",
        "#▲▲▲▲▲▲▲▲▲▲▲▲▲▲▲▲▲▲▲▲▲▲▲▲▲▲▲▲▲▲▲▲▲▲▲▲▲▲▲▲▲▲▲▲▲▲▲▲▲▲▲▲▲▲▲▲▲▲▲▲▲▲▲▲▲▲▲▲▲▲▲▲▲▲▲▲▲▲▲▲\n",
        "#▲▲▲▲▲▲▲▲▲▲▲▲▲▲▲▲▲▲▲▲▲▲▲▲▲▲▲▲▲▲▲▲▲▲▲▲▲▲▲▲▲▲▲▲▲▲▲▲▲▲▲▲▲▲▲▲▲▲▲▲▲▲▲▲▲▲▲▲▲▲▲▲▲▲▲▲▲▲▲▲\n",
        "#▲▲▲▲▲▲▲▲▲▲▲▲▲▲▲▲▲▲▲▲▲▲▲▲▲▲▲▲▲▲▲▲▲▲▲▲▲▲▲▲▲▲▲▲▲▲▲▲▲▲▲▲▲▲▲▲▲▲▲▲▲▲▲▲▲▲▲▲▲▲▲▲▲▲▲▲▲▲▲▲\n",
        "# 입력 데이터\n",
        "want_lists = [[\"banana\", \"apple\", \"rice\", \"pork\", \"pot\"], [\"apple\"]]\n",
        "number_lists = [[3, 2, 2, 2, 1], [10]]\n",
        "discount_lists = [\n",
        "    [\"chicken\", \"apple\", \"apple\", \"banana\", \"rice\", \"apple\", \"pork\", \"banana\", \"pork\", \"rice\", \"pot\", \"banana\", \"apple\", \"banana\"],\n",
        "    [\"banana\", \"banana\", \"banana\", \"banana\", \"banana\", \"banana\", \"banana\", \"banana\", \"banana\", \"banana\"]\n",
        "]\n",
        "expected_results = [3, 0]\n",
        "\n",
        "# 각 경우에 대해 solution 함수를 실행하고 결과를 확인\n",
        "for i in range(len(want_lists)):\n",
        "    valueSolution = solution(want_lists[i], number_lists[i], discount_lists[i])\n",
        "    is_correct = valueSolution == expected_results[i]\n",
        "    print(f\"Case {i+1}: {is_correct}\")\n",
        "    print(f\"V{i+1} : {valueSolution} \\n\\n\")"
      ],
      "metadata": {
        "colab": {
          "base_uri": "https://localhost:8080/"
        },
        "id": "qLlN3HqFoabc",
        "outputId": "1dcdf89d-e704-4bd1-c5d9-3384d96d6ded"
      },
      "execution_count": 3,
      "outputs": [
        {
          "output_type": "stream",
          "name": "stdout",
          "text": [
            "Case 1: True\n",
            "V1 : 3 \n",
            "\n",
            "\n",
            "Case 2: True\n",
            "V2 : 0 \n",
            "\n",
            "\n"
          ]
        }
      ]
    }
  ]
}