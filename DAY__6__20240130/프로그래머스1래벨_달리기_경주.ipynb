{
  "nbformat": 4,
  "nbformat_minor": 0,
  "metadata": {
    "colab": {
      "provenance": []
    },
    "kernelspec": {
      "name": "python3",
      "display_name": "Python 3"
    },
    "language_info": {
      "name": "python"
    }
  },
  "cells": [
    {
      "cell_type": "markdown",
      "source": [
        "\n",
        "# 달리기 경주\n",
        "https://school.programmers.co.kr/learn/courses/30/lessons/178871\n",
        "\n",
        "## 문제 설명\n",
        "얀에서는 매년 달리기 경주가 열립니다. 해설진들은 선수들이 자기 바로 앞의 선수를 추월할 때 추월한 선수의 이름을 부릅니다. 예를 들어 1등부터 3등까지 \"mumu\", \"soe\", \"poe\" 선수들이 순서대로 달리고 있을 때, 해설진이 \"soe\"선수를 불렀다면 2등인 \"soe\" 선수가 1등인 \"mumu\" 선수를 추월했다는 것입니다. 즉 \"soe\" 선수가 1등, \"mumu\" 선수가 2등으로 바뀝니다.\n",
        "\n",
        "선수들의 이름이 1등부터 현재 등수 순서대로 담긴 문자열 배열 players와 해설진이 부른 이름을 담은 문자열 배열 callings가 매개변수로 주어질 때, 경주가 끝났을 때 선수들의 이름을 1등부터 등수 순서대로 배열에 담아 return 하는 solution 함수를 완성해주세요.\n",
        "\n",
        "## 제한사항\n",
        "- 5 ≤ players의 길이 ≤ 50,000\n",
        "- players[i]는 i번째 선수의 이름을 의미합니다.\n",
        "- players의 원소들은 알파벳 소문자로만 이루어져 있습니다.\n",
        "- players에는 중복된 값이 들어가 있지 않습니다.\n",
        "- 3 ≤ players[i]의 길이 ≤ 10\n",
        "- 2 ≤ callings의 길이 ≤ 1,000,000\n",
        "- callings는 players의 원소들로만 이루어져 있습니다.\n",
        "- 경주 진행중 1등인 선수의 이름은 불리지 않습니다.\n",
        "\n",
        "## 입출력 예\n",
        "| players | callings | result |\n",
        "| --- | --- | --- |\n",
        "| [\"mumu\", \"soe\", \"poe\", \"kai\", \"mine\"] | [\"kai\", \"kai\", \"mine\", \"mine\"] | [\"mumu\", \"kai\", \"mine\", \"soe\", \"poe\"] |\n",
        "\n",
        "## 입출력 예 설명\n",
        "### 입출력 예 #1\n",
        "4등인 \"kai\" 선수가 2번 추월하여 2등이 되고 앞서 3등, 2등인 \"poe\", \"soe\" 선수는 4등, 3등이 됩니다. 5등인 \"mine\" 선수가 2번 추월하여 4등, 3등인 \"poe\", \"soe\" 선수가 5등, 4등이 되고 경주가 끝납니다. 1등부터 배열에 담으면 [\"mumu\", \"kai\", \"mine\", \"soe\", \"poe\"]이 됩니다.\n"
      ],
      "metadata": {
        "id": "ze2gCy-5zlwj"
      }
    },
    {
      "cell_type": "code",
      "execution_count": 2,
      "metadata": {
        "colab": {
          "base_uri": "https://localhost:8080/"
        },
        "id": "Ph0TsyWwzIDj",
        "outputId": "af93ef6e-fa27-444a-d57f-6a914668761d"
      },
      "outputs": [
        {
          "output_type": "stream",
          "name": "stdout",
          "text": [
            "Case 1: True\n",
            "V1 : ['mumu', 'kai', 'mine', 'soe', 'poe'] \n",
            "\n",
            "\n"
          ]
        }
      ],
      "source": [
        "def solution(players, callings):\n",
        "    playerKey = {x:i for i , x in enumerate(players)}\n",
        "    indexKey = {i:x for i , x in enumerate(players)}\n",
        "\n",
        "\n",
        "    for x in callings:\n",
        "        curIndex = playerKey[x]\n",
        "        frontIndex = curIndex - 1\n",
        "\n",
        "        curPlayer = x\n",
        "        frontPlayer = indexKey[frontIndex]\n",
        "\n",
        "        playerKey[curPlayer], playerKey[frontPlayer] = frontIndex, curIndex\n",
        "        indexKey[curIndex], indexKey[frontIndex] = frontPlayer, curPlayer\n",
        "\n",
        "    return [indexKey[x] for x in indexKey]\n",
        "\n",
        "#▲▲▲▲▲▲▲▲▲▲▲▲▲▲▲▲▲▲▲▲▲▲▲▲▲▲▲▲▲▲▲▲▲▲▲▲▲▲▲▲▲▲▲▲▲▲▲▲▲▲▲▲▲▲▲▲▲▲▲▲▲▲▲▲▲▲▲▲▲▲▲▲▲▲▲▲▲▲▲▲▲\n",
        "# 입력 데이터\n",
        "players_list = [[\"mumu\", \"soe\", \"poe\", \"kai\", \"mine\"]]\n",
        "callings_list = [[\"kai\", \"kai\", \"mine\", \"mine\"]]\n",
        "expected_results = [[\"mumu\", \"kai\", \"mine\", \"soe\", \"poe\"]]\n",
        "\n",
        "# 각 경우에 대해 solution 함수를 실행하고 결과를 확인\n",
        "for i in range(len(players_list)):\n",
        "    valueSolution = solution(players_list[i], callings_list[i])\n",
        "    is_correct = valueSolution == expected_results[i]\n",
        "    print(f\"Case {i+1}: {is_correct}\")\n",
        "    print(f\"V{i+1} : {valueSolution} \\n\\n\")\n"
      ]
    }
  ]
}