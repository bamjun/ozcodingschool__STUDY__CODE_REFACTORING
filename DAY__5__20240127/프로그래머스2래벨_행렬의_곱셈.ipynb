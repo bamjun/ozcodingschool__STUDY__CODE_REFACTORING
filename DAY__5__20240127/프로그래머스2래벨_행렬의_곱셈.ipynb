{
  "nbformat": 4,
  "nbformat_minor": 0,
  "metadata": {
    "colab": {
      "provenance": []
    },
    "kernelspec": {
      "name": "python3",
      "display_name": "Python 3"
    },
    "language_info": {
      "name": "python"
    }
  },
  "cells": [
    {
      "cell_type": "markdown",
      "source": [
        "# 행렬의 곱셈\n",
        "https://school.programmers.co.kr/learn/courses/30/lessons/12949\n",
        "\n",
        "## 문제 설명\n",
        "2차원 행렬 arr1과 arr2를 입력받아, arr1에 arr2를 곱한 결과를 반환하는 함수, solution을 완성해주세요.\n",
        "\n",
        "## 제한 조건\n",
        "- 행렬 arr1, arr2의 행과 열의 길이는 2 이상 100 이하입니다.\n",
        "- 행렬 arr1, arr2의 원소는 -10 이상 20 이하인 자연수입니다.\n",
        "- 곱할 수 있는 배열만 주어집니다.\n",
        "\n",
        "## 입출력 예\n",
        "| arr1 | arr2 | return |\n",
        "| --- | --- | --- |\n",
        "| [[1, 4], [3, 2], [4, 1]] | [[3, 3], [3, 3]] | [[15, 15], [15, 15], [15, 15]] |\n",
        "| [[2, 3, 2], [4, 2, 4], [3, 1, 4]] | [[5, 4, 3], [2, 4, 1], [3, 1, 1]] | [[22, 22, 11], [36, 28, 18], [29, 20, 14]] |\n"
      ],
      "metadata": {
        "id": "oip0etJjPsdv"
      }
    },
    {
      "cell_type": "code",
      "execution_count": null,
      "metadata": {
        "id": "A9MTK_lHPbBd",
        "outputId": "e5c0db59-6ce8-4dfe-acb6-c33c48ccd876",
        "colab": {
          "base_uri": "https://localhost:8080/"
        }
      },
      "outputs": [
        {
          "output_type": "stream",
          "name": "stdout",
          "text": [
            "Case 1: False\n",
            "V1 : [] \n",
            "\n",
            "\n",
            "Case 2: False\n",
            "V2 : [] \n",
            "\n",
            "\n"
          ]
        }
      ],
      "source": [
        "def solution(arr1, arr2):\n",
        "    result = []\n",
        "    # 여기에 solution 함수의 로직을 구현하세요.\n",
        "    return result\n",
        "\n",
        "#▲▲▲▲▲▲▲▲▲▲▲▲▲▲▲▲▲▲▲▲▲▲▲▲▲▲▲▲▲▲▲▲▲▲▲▲▲▲▲▲▲▲▲▲▲▲▲▲▲▲▲▲▲▲▲▲▲▲▲▲▲▲▲▲▲▲▲▲▲▲▲▲▲▲▲▲▲▲▲▲\n",
        "#▲▲▲▲▲▲▲▲▲▲▲▲▲▲▲▲▲▲▲▲▲▲▲▲▲▲▲▲▲▲▲▲▲▲▲▲▲▲▲▲▲▲▲▲▲▲▲▲▲▲▲▲▲▲▲▲▲▲▲▲▲▲▲▲▲▲▲▲▲▲▲▲▲▲▲▲▲▲▲▲\n",
        "#▲▲▲▲▲▲▲▲▲▲▲▲▲▲▲▲▲▲▲▲▲▲▲▲▲▲▲▲▲▲▲▲▲▲▲▲▲▲▲▲▲▲▲▲▲▲▲▲▲▲▲▲▲▲▲▲▲▲▲▲▲▲▲▲▲▲▲▲▲▲▲▲▲▲▲▲▲▲▲▲\n",
        "# 입력 데이터\n",
        "arr1_lists = [\n",
        "    [[1, 4], [3, 2], [4, 1]],\n",
        "    [[2, 3, 2], [4, 2, 4], [3, 1, 4]]\n",
        "]\n",
        "arr2_lists = [\n",
        "    [[3, 3], [3, 3]],\n",
        "    [[5, 4, 3], [2, 4, 1], [3, 1, 1]]\n",
        "]\n",
        "expected_results = [\n",
        "    [[15, 15], [15, 15], [15, 15]],\n",
        "    [[22, 22, 11], [36, 28, 18], [29, 20, 14]]\n",
        "]\n",
        "\n",
        "# 각 경우에 대해 solution 함수를 실행하고 결과를 확인\n",
        "for i in range(len(arr1_lists)):\n",
        "    valueSolution = solution(arr1_lists[i], arr2_lists[i])\n",
        "    is_correct = valueSolution == expected_results[i]\n",
        "    print(f\"Case {i+1}: {is_correct}\")\n",
        "    print(f\"V{i+1} : {valueSolution} \\n\\n\")\n"
      ]
    },
    {
      "cell_type": "code",
      "source": [
        "def solution(arr1, arr2):\n",
        "    result = []\n",
        "    for i in range(len(arr1)):\n",
        "        row = []\n",
        "        for j in range(len(arr2[0])):\n",
        "            sum = 0\n",
        "            for k in range(len(arr1[0])):\n",
        "                sum += arr1[i][k] * arr2[k][j]\n",
        "            row.append(sum)\n",
        "        result.append(row)\n",
        "    return result\n",
        "\n",
        "#▲▲▲▲▲▲▲▲▲▲▲▲▲▲▲▲▲▲▲▲▲▲▲▲▲▲▲▲▲▲▲▲▲▲▲▲▲▲▲▲▲▲▲▲▲▲▲▲▲▲▲▲▲▲▲▲▲▲▲▲▲▲▲▲▲▲▲▲▲▲▲▲▲▲▲▲▲▲▲▲\n",
        "#▲▲▲▲▲▲▲▲▲▲▲▲▲▲▲▲▲▲▲▲▲▲▲▲▲▲▲▲▲▲▲▲▲▲▲▲▲▲▲▲▲▲▲▲▲▲▲▲▲▲▲▲▲▲▲▲▲▲▲▲▲▲▲▲▲▲▲▲▲▲▲▲▲▲▲▲▲▲▲▲\n",
        "#▲▲▲▲▲▲▲▲▲▲▲▲▲▲▲▲▲▲▲▲▲▲▲▲▲▲▲▲▲▲▲▲▲▲▲▲▲▲▲▲▲▲▲▲▲▲▲▲▲▲▲▲▲▲▲▲▲▲▲▲▲▲▲▲▲▲▲▲▲▲▲▲▲▲▲▲▲▲▲▲\n",
        "# 입력 데이터\n",
        "arr1_lists = [\n",
        "    [[1, 4], [3, 2], [4, 1]],\n",
        "    [[2, 3, 2], [4, 2, 4], [3, 1, 4]]\n",
        "]\n",
        "arr2_lists = [\n",
        "    [[3, 3], [3, 3]],\n",
        "    [[5, 4, 3], [2, 4, 1], [3, 1, 1]]\n",
        "]\n",
        "expected_results = [\n",
        "    [[15, 15], [15, 15], [15, 15]],\n",
        "    [[22, 22, 11], [36, 28, 18], [29, 20, 14]]\n",
        "]\n",
        "\n",
        "# 각 경우에 대해 solution 함수를 실행하고 결과를 확인\n",
        "for i in range(len(arr1_lists)):\n",
        "    valueSolution = solution(arr1_lists[i], arr2_lists[i])\n",
        "    is_correct = valueSolution == expected_results[i]\n",
        "    print(f\"Case {i+1}: {is_correct}\")\n",
        "    print(f\"V{i+1} : {valueSolution} \\n\\n\")\n"
      ],
      "metadata": {
        "colab": {
          "base_uri": "https://localhost:8080/"
        },
        "id": "PZTvgeIykWYZ",
        "outputId": "83cdaf19-c1d6-499a-9fb7-881e88f39832"
      },
      "execution_count": 1,
      "outputs": [
        {
          "output_type": "stream",
          "name": "stdout",
          "text": [
            "Case 1: True\n",
            "V1 : [[15, 15], [15, 15], [15, 15]] \n",
            "\n",
            "\n",
            "Case 2: True\n",
            "V2 : [[22, 22, 11], [36, 28, 18], [29, 20, 14]] \n",
            "\n",
            "\n"
          ]
        }
      ]
    }
  ]
}