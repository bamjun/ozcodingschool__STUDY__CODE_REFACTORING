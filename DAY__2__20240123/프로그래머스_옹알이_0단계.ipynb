{
  "nbformat": 4,
  "nbformat_minor": 0,
  "metadata": {
    "colab": {
      "provenance": []
    },
    "kernelspec": {
      "name": "python3",
      "display_name": "Python 3"
    },
    "language_info": {
      "name": "python"
    }
  },
  "cells": [
    {
      "cell_type": "markdown",
      "source": [
        "# 옹알이 (1) - 0단계\n",
        "https://school.programmers.co.kr/learn/courses/30/lessons/120956\n",
        "\n",
        "## 문제 설명\n",
        "머쓱이는 태어난 지 6개월 된 조카를 돌보고 있습니다. 조카는 아직 \"aya\", \"ye\", \"woo\", \"ma\" 네 가지 발음을 최대 한 번씩 사용해 조합한(이어 붙인) 발음밖에 하지 못합니다. 문자열 배열 babbling이 매개변수로 주어질 때, 머쓱이의 조카가 발음할 수 있는 단어의 개수를 return하도록 solution 함수를 완성해주세요.\n",
        "\n",
        "## 제한사항\n",
        "- 1 ≤ babbling의 길이 ≤ 100\n",
        "- 1 ≤ babbling[i]의 길이 ≤ 15\n",
        "- babbling의 각 문자열에서 \"aya\", \"ye\", \"woo\", \"ma\"는 각각 최대 한 번씩만 등장합니다.\n",
        "    - 즉, 각 문자열의 가능한 모든 부분 문자열 중에서 \"aya\", \"ye\", \"woo\", \"ma\"가 한 번씩만 등장합니다.\n",
        "- 문자열은 알파벳 소문자로만 이루어져 있습니다.\n",
        "\n",
        "## 입출력 예\n",
        "| babbling | result |\n",
        "| --- | --- |\n",
        "| [\"aya\", \"yee\", \"u\", \"maa\", \"wyeoo\"] | 1 |\n",
        "| [\"ayaye\", \"uuuma\", \"ye\", \"yemawoo\", \"ayaa\"] | 3 |\n",
        "\n",
        "## 입출력 예 설명\n",
        "### 입출력 예 #1\n",
        "- [\"aya\", \"yee\", \"u\", \"maa\", \"wyeoo\"]에서 발음할 수 있는 것은 \"aya\"뿐입니다. 따라서 1을 return합니다.\n",
        "\n",
        "### 입출력 예 #2\n",
        "- [\"ayaye\", \"uuuma\", \"ye\", \"yemawoo\", \"ayaa\"]에서 발음할 수 있는 것은 \"aya\" + \"ye\" = \"ayaye\", \"ye\", \"ye\" + \"ma\" + \"woo\" = \"yemawoo\"로 3개입니다. 따라서 3을 return합니다.\n",
        "\n",
        "## 유의사항\n",
        "- 네 가지를 붙여 만들 수 있는 발음 이외에는 어떤 발음도 할 수 없는 것으로 규정합니다. 예를 들어 \"woowo\"는 \"woo\"는 발음할 수 있지만 \"wo\"를 발음할 수 없기 때문에 할 수 없는 발음입니다.\n",
        "- ※ 공지 - 2022년 10월 27일 문제 지문이 리뉴얼되었습니다. 기존에 제출한 코드가 통과하지 못할 수도 있습니다."
      ],
      "metadata": {
        "id": "baqf_YmcLWlg"
      }
    },
    {
      "cell_type": "code",
      "source": [
        "def solution(babbling):\n",
        "    result = 0\n",
        "    # 여기에 solution 함수의 로직을 구현하세요.\n",
        "    return result\n",
        "\n",
        "# 입력 데이터\n",
        "babbling_lists = [\n",
        "    [\"aya\", \"yee\", \"u\", \"maa\", \"wyeoo\"],\n",
        "    [\"ayaye\", \"uuuma\", \"ye\", \"yemawoo\", \"ayaa\"]\n",
        "]\n",
        "expected_results = [1, 3]\n",
        "\n",
        "# 각 경우에 대해 solution 함수를 실행하고 결과를 확인\n",
        "for i in range(len(babbling_lists)):\n",
        "    valueSolution = solution(babbling_lists[i])\n",
        "    is_correct = valueSolution == expected_results[i]\n",
        "    print(f\"Case {i+1}: {is_correct}\")\n",
        "    print(f\"V{i+1} : {valueSolution} \\n\\n\")\n"
      ],
      "metadata": {
        "colab": {
          "base_uri": "https://localhost:8080/"
        },
        "id": "4xkqThT4MEXm",
        "outputId": "4fe15376-d1f8-4b62-de39-eae060c5209f"
      },
      "execution_count": 1,
      "outputs": [
        {
          "output_type": "stream",
          "name": "stdout",
          "text": [
            "Case 1: False\n",
            "V1 : 0 \n",
            "\n",
            "\n",
            "Case 2: False\n",
            "V2 : 0 \n",
            "\n",
            "\n"
          ]
        }
      ]
    }
  ]
}