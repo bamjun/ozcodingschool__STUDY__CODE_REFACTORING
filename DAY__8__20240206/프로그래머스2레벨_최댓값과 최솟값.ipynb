{
 "cells": [
  {
   "cell_type": "markdown",
   "metadata": {},
   "source": [
    "https://school.programmers.co.kr/learn/courses/30/lessons/12939"
   ]
  },
  {
   "cell_type": "code",
   "execution_count": 9,
   "metadata": {},
   "outputs": [
    {
     "name": "stdout",
     "output_type": "stream",
     "text": [
      "Case 1: True\n",
      "Result: 1 4 \n",
      "\n",
      "\n",
      "Case 2: True\n",
      "Result: -4 -1 \n",
      "\n",
      "\n",
      "Case 3: True\n",
      "Result: -1 -1 \n",
      "\n",
      "\n"
     ]
    }
   ],
   "source": [
    "def solution(s):\n",
    "    a = [int(x) for x in s.split(' ')]\n",
    "    return f\"{min(a)} {max(a)}\"\n",
    "\n",
    "#▲▲▲▲▲▲▲▲▲▲▲▲▲▲▲▲▲▲▲▲▲▲▲▲▲▲▲▲▲▲▲▲▲▲▲▲▲▲▲▲▲▲▲▲▲▲▲▲▲▲▲▲▲▲▲▲▲▲▲▲▲▲▲▲▲▲▲▲▲▲▲▲▲▲▲▲▲▲▲▲\n",
    "# 입력 데이터\n",
    "s_values = [\"1 2 3 4\", \"-1 -2 -3 -4\", \"-1 -1\"]\n",
    "expected_results = [\"1 4\", \"-4 -1\", \"-1 -1\"]\n",
    "\n",
    "# 각 경우에 대해 solution 함수를 실행하고 결과를 확인\n",
    "for i, s in enumerate(s_values):\n",
    "    valueSolution = solution(s)\n",
    "    is_correct = valueSolution == expected_results[i]\n",
    "    print(f\"Case {i+1}: {is_correct}\")\n",
    "    print(f\"Result: {valueSolution} \\n\\n\")\n"
   ]
  }
 ],
 "metadata": {
  "kernelspec": {
   "display_name": "Python 3",
   "language": "python",
   "name": "python3"
  },
  "language_info": {
   "codemirror_mode": {
    "name": "ipython",
    "version": 3
   },
   "file_extension": ".py",
   "mimetype": "text/x-python",
   "name": "python",
   "nbconvert_exporter": "python",
   "pygments_lexer": "ipython3",
   "version": "3.12.1"
  }
 },
 "nbformat": 4,
 "nbformat_minor": 2
}
