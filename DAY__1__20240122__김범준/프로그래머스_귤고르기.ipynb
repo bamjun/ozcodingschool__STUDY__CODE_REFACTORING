{
  "nbformat": 4,
  "nbformat_minor": 0,
  "metadata": {
    "colab": {
      "provenance": []
    },
    "kernelspec": {
      "name": "python3",
      "display_name": "Python 3"
    },
    "language_info": {
      "name": "python"
    }
  },
  "cells": [
    {
      "cell_type": "markdown",
      "source": [
        "# **귤 고르기**\n",
        "https://school.programmers.co.kr/learn/courses/30/lessons/138476\n",
        "### 문제 설명  \n",
        "<br>\n",
        "경화는 과수원에서 귤을 수확했습니다. 경화는 수확한 귤 중 'k'개를 골라 상자 하나에 담아 판매하려고 합니다. 그런데 수확한 귤의 크기가 일정하지 않아 보기에 좋지 않다고 생각한 경화는 귤을 크기별로 분류했을 때 서로 다른 종류의 수를 최소화하고 싶습니다.\n",
        "<br>  \n",
        "예를 들어, 경화가 수확한 귤 8개의 크기가 [1, 3, 2, 5, 4, 5, 2, 3] 이라고 합시다. 경화가 귤 6개를 판매하고 싶다면, 크기가 1, 4인 귤을 제외한 여섯 개의 귤을 상자에 담으면, 귤의 크기의 종류가 2, 3, 5로 총 3가지가 되며 이때가 서로 다른 종류가 최소일 때입니다.\n",
        "<br>  \n",
        "경화가 한 상자에 담으려는 귤의 개수 k와 귤의 크기를 담은 배열 tangerine이 매개변수로 주어집니다. 경화가 귤 k개를 고를 때 크기가 서로 다른 종류의 수의 최솟값을 return 하도록 solution 함수를 작성해주세요.\n",
        "<br>  \n",
        "<br>  \n",
        "\n",
        "제한사항<br>   \n",
        "1 ≤ k ≤ tangerine의 길이 ≤ 100,000\n",
        "1 ≤ tangerine의 원소 ≤ 10,000,000\n",
        "입출력 예 <br>  \n",
        "k\ttangerine\tresult <br>  \n",
        "6\t[1, 3, 2, 5, 4, 5, 2, 3]\t3 <br>  \n",
        "  \n",
        "4\t[1, 3, 2, 5, 4, 5, 2, 3]\t2 <br>  \n",
        "  \n",
        "2\t[1, 1, 1, 1, 2, 2, 2, 3]\t1 <br>\n",
        "\n",
        "  \n",
        "입출력 예 설명  <br>  \n",
        "입출력 예 #1\n",
        "\n",
        "본문에서 설명한 예시입니다.<br>  \n",
        "  \n",
        "입출력 예 #2\n",
        "\n",
        "경화는 크기가 2인 귤 2개와 3인 귤 2개 또는 2인 귤 2개와 5인 귤 2개 또는 3인 귤 2개와 5인 귤 2개로 귤을 판매할 수 있습니다. 이때의 크기 종류는 2가지로 이 값이 최소가 됩니다.<br>  \n",
        "입출력 예 #3\n",
        "\n",
        "경화는 크기가 1인 귤 2개를 판매하거나 2인 귤 2개를 판매할 수 있습니다. 이때의 크기 종류는 1가지로, 이 값이 최소가 됩니다."
      ],
      "metadata": {
        "id": "bF0HM3VQocMz"
      }
    },
    {
      "cell_type": "code",
      "source": [
        "def solution(k, tangerine):\n",
        "    result = 0\n",
        "\n",
        "\n",
        "    # 여기에 solution 함수의 로직을 구현하세요.\n",
        "    return result\n",
        "\n",
        "# 입력 데이터\n",
        "k = [6, 4, 2]\n",
        "tangerine = [[1, 3, 2, 5, 4, 5, 2, 3], [1, 3, 2, 5, 4, 5, 2, 3], [1, 1, 1, 1, 2, 2, 2, 3]]\n",
        "result = [3, 2, 1]\n",
        "\n",
        "# 각 경우에 대해 solution 함수를 실행하고 결과를 확인\n",
        "for i in range(len(k)):\n",
        "  valueSolution = solution(k[i], tangerine[i])\n",
        "  is_correct = valueSolution == result[i]\n",
        "  print(f\"Case {i+1}: {is_correct}\")\n",
        "  print(f\"V{i+1} : {valueSolution} \\n\\n\")\n"
      ],
      "metadata": {
        "id": "8W5egykKphBX",
        "colab": {
          "base_uri": "https://localhost:8080/"
        },
        "outputId": "bbe90e9d-c9b5-4ba4-fd85-c790c4c0e30b"
      },
      "execution_count": 9,
      "outputs": [
        {
          "output_type": "stream",
          "name": "stdout",
          "text": [
            "Case 1: False\n",
            "V1 : 0 \n",
            "\n",
            "\n",
            "Case 2: False\n",
            "V2 : 0 \n",
            "\n",
            "\n",
            "Case 3: False\n",
            "V3 : 0 \n",
            "\n",
            "\n"
          ]
        }
      ]
    },
    {
      "cell_type": "code",
      "source": [
        "from itertools import combinations as comb\n",
        "a = [1, 3, 2, 5, 4, 5, 2, 3]\n",
        "dict = {x:0 for x in set(a)}\n",
        "for i in a:\n",
        "  dict[i] += 1\n",
        "\n",
        "for x in range(len(dict.keys())):\n",
        "  for y in comb(dict, x):\n",
        "    resultSum = 0\n",
        "    for i in y:\n",
        "      resultSum += dict[i]\n",
        "      print('i',i)\n",
        "    print(y)\n",
        "    if resultSum == 6:\n",
        "      print('f',x)\n",
        "      break\n",
        "      break\n",
        "\n",
        "\n",
        "print(dict)\n",
        "dict.keys()\n",
        "\n"
      ],
      "metadata": {
        "colab": {
          "base_uri": "https://localhost:8080/"
        },
        "id": "dpfJq8QE9ZqX",
        "outputId": "0a9533d9-5f9c-4b63-bf73-6e8410a71fb8"
      },
      "execution_count": 24,
      "outputs": [
        {
          "output_type": "stream",
          "name": "stdout",
          "text": [
            "()\n",
            "i 1\n",
            "(1,)\n",
            "i 2\n",
            "(2,)\n",
            "i 3\n",
            "(3,)\n",
            "i 4\n",
            "(4,)\n",
            "i 5\n",
            "(5,)\n",
            "i 1\n",
            "i 2\n",
            "(1, 2)\n",
            "i 1\n",
            "i 3\n",
            "(1, 3)\n",
            "i 1\n",
            "i 4\n",
            "(1, 4)\n",
            "i 1\n",
            "i 5\n",
            "(1, 5)\n",
            "i 2\n",
            "i 3\n",
            "(2, 3)\n",
            "i 2\n",
            "i 4\n",
            "(2, 4)\n",
            "i 2\n",
            "i 5\n",
            "(2, 5)\n",
            "i 3\n",
            "i 4\n",
            "(3, 4)\n",
            "i 3\n",
            "i 5\n",
            "(3, 5)\n",
            "i 4\n",
            "i 5\n",
            "(4, 5)\n",
            "i 1\n",
            "i 2\n",
            "i 3\n",
            "(1, 2, 3)\n",
            "i 1\n",
            "i 2\n",
            "i 4\n",
            "(1, 2, 4)\n",
            "i 1\n",
            "i 2\n",
            "i 5\n",
            "(1, 2, 5)\n",
            "i 1\n",
            "i 3\n",
            "i 4\n",
            "(1, 3, 4)\n",
            "i 1\n",
            "i 3\n",
            "i 5\n",
            "(1, 3, 5)\n",
            "i 1\n",
            "i 4\n",
            "i 5\n",
            "(1, 4, 5)\n",
            "i 2\n",
            "i 3\n",
            "i 4\n",
            "(2, 3, 4)\n",
            "i 2\n",
            "i 3\n",
            "i 5\n",
            "(2, 3, 5)\n",
            "f 3\n",
            "i 1\n",
            "i 2\n",
            "i 3\n",
            "i 4\n",
            "(1, 2, 3, 4)\n",
            "f 4\n",
            "{1: 1, 2: 2, 3: 2, 4: 1, 5: 2}\n"
          ]
        },
        {
          "output_type": "execute_result",
          "data": {
            "text/plain": [
              "dict_keys([1, 2, 3, 4, 5])"
            ]
          },
          "metadata": {},
          "execution_count": 24
        }
      ]
    },
    {
      "cell_type": "code",
      "source": [
        "from itertools import combinations\n",
        "\n",
        "def solution(k, l):\n",
        "  dict = {x:0 for x in set(l)}\n",
        "  for x in l:\n",
        "    dict[x] += 1\n",
        "\n",
        "  for x in range(len(dict.keys())):\n",
        "    for y in combinations(dict.keys(), x):\n",
        "      sumValue = 0\n",
        "      for z in y:\n",
        "        sumValue += dict[z]\n",
        "      if sumValue >= k:\n",
        "        return x\n",
        "\n",
        "\n",
        "\n",
        "# 입력 데이터\n",
        "k = [6, 4, 2]\n",
        "tangerine = [[1, 3, 2, 5, 4, 5, 2, 3], [1, 3, 2, 5, 4, 5, 2, 3], [1, 1, 1, 1, 2, 2, 2, 3]]\n",
        "result = [3, 2, 1]\n",
        "\n",
        "# 각 경우에 대해 solution 함수를 실행하고 결과를 확인\n",
        "for i in range(len(k)):\n",
        "  valueSolution = solution(k[i], tangerine[i])\n",
        "  is_correct = valueSolution == result[i]\n",
        "  print(f\"Case {i+1}: {is_correct}\")\n",
        "  print(f\"V{i+1} : {valueSolution} \\n\\n\")"
      ],
      "metadata": {
        "id": "n7icPS6FAZPx"
      },
      "execution_count": null,
      "outputs": []
    },
    {
      "cell_type": "code",
      "source": [
        "from collections import Counter\n",
        "\n",
        "def solution(k, tangerine):\n",
        "    # 각 크기의 귤이 몇 개 있는지 세기\n",
        "    count = Counter(tangerine)\n",
        "\n",
        "    # 가장 많은 순으로 정렬\n",
        "    sorted_counts = sorted(count.values(), reverse=True)\n",
        "    # k개의 귤을 선택하기 위해 필요한 최소 종류 수 찾기\n",
        "    total = 0\n",
        "    for i, c in enumerate(sorted_counts):\n",
        "        total += c\n",
        "        if total >= k:\n",
        "            return i + 1\n",
        "\n",
        "# 입력 데이터\n",
        "k = [6, 4, 2]\n",
        "tangerine = [[1, 3, 2, 5, 4, 5, 2, 3], [1, 3, 2, 5, 4, 5, 2, 3], [1, 1, 1, 1, 2, 2, 2, 3]]\n",
        "result = [3, 2, 1]\n",
        "\n",
        "# 각 경우에 대해 solution 함수를 실행하고 결과를 확인\n",
        "for i in range(len(k)):\n",
        "  valueSolution = solution(k[i], tangerine[i])\n",
        "  is_correct = valueSolution == result[i]\n",
        "  print(f\"Case {i+1}: {is_correct}\")\n",
        "  print(f\"V{i+1} : {valueSolution} \\n\\n\")"
      ],
      "metadata": {
        "colab": {
          "base_uri": "https://localhost:8080/"
        },
        "id": "6tqWibiAFL2h",
        "outputId": "7ffe217b-0ab3-4396-ea89-9f22e9756640"
      },
      "execution_count": 40,
      "outputs": [
        {
          "output_type": "stream",
          "name": "stdout",
          "text": [
            "Case 1: True\n",
            "V1 : 3 \n",
            "\n",
            "\n",
            "Case 2: True\n",
            "V2 : 2 \n",
            "\n",
            "\n",
            "Case 3: True\n",
            "V3 : 1 \n",
            "\n",
            "\n"
          ]
        }
      ]
    },
    {
      "cell_type": "markdown",
      "source": [
        "# 해설\n",
        "Counter 를 활용해서 종류별 개수를 확인한다음,  <br>\n",
        "( from collections import Counter )  <br>  \n",
        "  <br>  \n",
        "개수가 많은 종류부터 더 하면서, 개수가 포장해야하는 개수에 도달하면 개수 리턴  <br>  \n",
        "\n"
      ],
      "metadata": {
        "id": "8i1D4782Iili"
      }
    },
    {
      "cell_type": "code",
      "source": [
        "def solution(k, tangerine):\n",
        "    # 각 크기의 귤이 몇 개 있는지 세기\n",
        "    count = {x:0 for x in set(tangerine)}\n",
        "    for x in tangerine:\n",
        "      count[x] += 1\n",
        "\n",
        "    # 가장 많은 순으로 정렬\n",
        "    sorted_counts = sorted(count.values(), reverse=True)\n",
        "    # k개의 귤을 선택하기 위해 필요한 최소 종류 수 찾기\n",
        "    total = 0\n",
        "    for i, c in enumerate(sorted_counts):\n",
        "        total += c\n",
        "        if total >= k:\n",
        "            return i + 1\n",
        "\n",
        "# 입력 데이터\n",
        "k = [6, 4, 2]\n",
        "tangerine = [[1, 3, 2, 5, 4, 5, 2, 3], [1, 3, 2, 5, 4, 5, 2, 3], [1, 1, 1, 1, 2, 2, 2, 3]]\n",
        "result = [3, 2, 1]\n",
        "\n",
        "# 각 경우에 대해 solution 함수를 실행하고 결과를 확인\n",
        "for i in range(len(k)):\n",
        "  valueSolution = solution(k[i], tangerine[i])\n",
        "  is_correct = valueSolution == result[i]\n",
        "  print(f\"Case {i+1}: {is_correct}\")\n",
        "  print(f\"V{i+1} : {valueSolution} \\n\\n\")"
      ],
      "metadata": {
        "id": "2uIgLALtJb7I"
      },
      "execution_count": null,
      "outputs": []
    },
    {
      "cell_type": "markdown",
      "source": [
        "# Counter 함수 안쓰고 해결.\n",
        "\n",
        "Counter(list) list 안에 종류를 개수를 세서 반환해주는 함수.  <br>\n",
        "set(list)로 중복 제거  <br>\n",
        "Counter 함수처럼 만들기 위해, 중복 제거 한 값을 dictionaly의 key로 하로, value는 0으로 하여 dict 구조로 반환.  <br>\n",
        "list를 for 문으로 돌리면서, dict에 몇개인지 넣음."
      ],
      "metadata": {
        "id": "7qD2qHqmJskc"
      }
    }
  ]
}