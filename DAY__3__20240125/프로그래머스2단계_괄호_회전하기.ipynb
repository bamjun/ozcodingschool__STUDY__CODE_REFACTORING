{
  "nbformat": 4,
  "nbformat_minor": 0,
  "metadata": {
    "colab": {
      "provenance": []
    },
    "kernelspec": {
      "name": "python3",
      "display_name": "Python 3"
    },
    "language_info": {
      "name": "python"
    }
  },
  "cells": [
    {
      "cell_type": "markdown",
      "source": [
        "# 괄호 회전하기\n",
        "https://school.programmers.co.kr/learn/courses/30/lessons/76502\n",
        "\n",
        "## 문제 설명\n",
        "다음 규칙을 지키는 문자열을 올바른 괄호 문자열이라고 정의합니다.\n",
        "- (), [], {} 는 모두 올바른 괄호 문자열입니다.\n",
        "- 만약 A가 올바른 괄호 문자열이라면, (A), [A], {A} 도 올바른 괄호 문자열입니다. 예를 들어, [] 가 올바른 괄호 문자열이므로, ([]) 도 올바른 괄호 문자열입니다.\n",
        "- 만약 A, B가 올바른 괄호 문자열이라면, AB 도 올바른 괄호 문자열입니다. 예를 들어, {} 와 ([]) 가 올바른 괄호 문자열이므로, {}([]) 도 올바른 괄호 문자열입니다.\n",
        "\n",
        "대괄호, 중괄호, 그리고 소괄호로 이루어진 문자열 s가 매개변수로 주어집니다. 이 s를 왼쪽으로 x (0 ≤ x < (s의 길이)) 칸만큼 회전시켰을 때 s가 올바른 괄호 문자열이 되게 하는 x의 개수를 return 하도록 solution 함수를 완성해주세요.\n",
        "\n",
        "## 제한사항\n",
        "- s의 길이는 1 이상 1,000 이하입니다.\n",
        "\n",
        "## 입출력 예\n",
        "| s | result |\n",
        "| --- | --- |\n",
        "| \"[](){}\" | 3 |\n",
        "| \"}]()[{\" | 2 |\n",
        "| \"[)(]\" | 0 |\n",
        "| \"}}}\" | 0 |\n",
        "\n",
        "## 입출력 예 설명\n",
        "### 입출력 예 #1\n",
        "다음 표는 \"[](){}\" 를 회전시킨 모습을 나타낸 것입니다.\n",
        "\n",
        "| x | s를 왼쪽으로 x칸만큼 회전 | 올바른 괄호 문자열? |\n",
        "| --- | --- | --- |\n",
        "| 0 | \"[](){}\" | O |\n",
        "| 1 | \"](){}[\" | X |\n",
        "| 2 | \"(){}[]\" | O |\n",
        "| 3 | \"){}[](\" | X |\n",
        "| 4 | \"{}[]()\" | O |\n",
        "| 5 | \"}[](){\" | X |\n",
        "올바른 괄호 문자열이 되는 x가 3개이므로, 3을 return 해야 합니다.\n",
        "\n",
        "### 입출력 예 #2\n",
        "다음 표는  \"}]()[{\"  를 회전시킨 모습을 나타낸 것입니다.\n",
        "\n",
        "| x | s를 왼쪽으로 x칸만큼 회전 | 올바른 괄호 문자열? |\n",
        "| --- | --- | --- |\n",
        "| 0 | \"}]()[{\" | X |\n",
        "| 1 | \"]()[{}\" | X |\n",
        "| 2 | \"()[{}]\" | O |\n",
        "| 3 | \")[{}](\" | X |\n",
        "| 4 | \"[{}]()\" | O |\n",
        "| 5 | \"{}]()[\" | X |\n",
        "올바른 괄호 문자열이 되는 x가 2개이므로, 2를 return 해야 합니다.\n",
        "\n",
        "### 입출력 예 #3\n",
        "s를 어떻게 회전하더라도 올바른 괄호 문자열을 만들 수 없으므로, 0을 return 해야 합니다.\n",
        "\n",
        "### 입출력 예 #4\n",
        "s를 어떻게 회전하더라도 올바른 괄호 문자열을 만들 수 없으므로, 0을 return 해야 합니다.\n",
        "\n",
        "※ 공지 - 2021년 4월 16일 테스트케이스가 추가되었습니다.\n",
        "\n"
      ],
      "metadata": {
        "id": "Hky8jCFlYAvl"
      }
    },
    {
      "cell_type": "code",
      "execution_count": null,
      "metadata": {
        "colab": {
          "base_uri": "https://localhost:8080/"
        },
        "id": "2-YXn6b4Xqmr",
        "outputId": "59037c8a-82bf-48d3-9bda-631a8a5a2478"
      },
      "outputs": [
        {
          "output_type": "stream",
          "name": "stdout",
          "text": [
            "Case 1: False\n",
            "V1 : 0 \n",
            "\n",
            "\n",
            "Case 2: False\n",
            "V2 : 0 \n",
            "\n",
            "\n",
            "Case 3: True\n",
            "V3 : 0 \n",
            "\n",
            "\n",
            "Case 4: True\n",
            "V4 : 0 \n",
            "\n",
            "\n"
          ]
        }
      ],
      "source": [
        "def solution(s):\n",
        "    result = 0\n",
        "    # 여기에 solution 함수의 로직을 구현하세요.\n",
        "    return result\n",
        "\n",
        "# 입력 데이터\n",
        "s_list = [\"[](){}\", \"}]()[{\", \"[)(]\", \"}}}\"]\n",
        "expected_results = [3, 2, 0, 0]\n",
        "\n",
        "# 각 경우에 대해 solution 함수를 실행하고 결과를 확인\n",
        "for i in range(len(s_list)):\n",
        "    valueSolution = solution(s_list[i])\n",
        "    is_correct = valueSolution == expected_results[i]\n",
        "    print(f\"Case {i+1}: {is_correct}\")\n",
        "    print(f\"V{i+1} : {valueSolution} \\n\\n\")\n",
        "\n"
      ]
    },
    {
      "cell_type": "code",
      "source": [
        "def isValid(s):\n",
        "    stack = []\n",
        "    mapping = {\")\": \"(\", \"}\": \"{\", \"]\": \"[\"}\n",
        "\n",
        "    for char in s:\n",
        "        if char in mapping:\n",
        "            top_element = stack.pop() if stack else '#'\n",
        "            if mapping[char] != top_element:\n",
        "                return False\n",
        "        else:\n",
        "            stack.append(char)\n",
        "\n",
        "    return not stack\n",
        "\n",
        "# 테스트 케이스 확인\n",
        "test_cases = [\t\"()[{}]\", \"](){}[\", \"(){}[]\", \"){}[](\", \"{}[]()\", \"}[](){\"]\n",
        "results = {s: isValid(s) for s in test_cases}\n",
        "results\n",
        "\n"
      ],
      "metadata": {
        "colab": {
          "base_uri": "https://localhost:8080/"
        },
        "id": "jqUUG8cXanc1",
        "outputId": "4a2fe411-c44e-4f7a-c32a-d85fd080e16a"
      },
      "execution_count": null,
      "outputs": [
        {
          "output_type": "execute_result",
          "data": {
            "text/plain": [
              "{'()[{}]': True,\n",
              " '](){}[': False,\n",
              " '(){}[]': True,\n",
              " '){}[](': False,\n",
              " '{}[]()': True,\n",
              " '}[](){': False}"
            ]
          },
          "metadata": {},
          "execution_count": 8
        }
      ]
    },
    {
      "cell_type": "code",
      "source": [
        "def solution(s):\n",
        "    result = 0\n",
        "    for x in range(len(s)):\n",
        "      result += isValid(s[x:] + s[:x])\n",
        "    return result\n",
        "\n",
        "def isValid(s):\n",
        "  stack = []\n",
        "  mapping = {\"}\":\"{\",\"]\":\"[\",\")\":\"(\"}\n",
        "  for char in s:\n",
        "    if char in mapping:\n",
        "      top_element = stack.pop() if stack else '#'\n",
        "      if mapping[char] != top_element:\n",
        "        return 0\n",
        "    else:\n",
        "      stack.append(char)\n",
        "  return 1 if not stack else 0\n",
        "\n",
        "# 입력 데이터\n",
        "s_list = [\"[](){}\", \"}]()[{\", \"[)(]\", \"}}}\"]\n",
        "expected_results = [3, 2, 0, 0]\n",
        "\n",
        "# 각 경우에 대해 solution 함수를 실행하고 결과를 확인\n",
        "for i in range(len(s_list)):\n",
        "    valueSolution = solution(s_list[i])\n",
        "    is_correct = valueSolution == expected_results[i]\n",
        "    print(f\"Case {i+1}: {is_correct}\")\n",
        "    print(f\"V{i+1} : {valueSolution} \\n\\n\")"
      ],
      "metadata": {
        "colab": {
          "base_uri": "https://localhost:8080/"
        },
        "id": "GQumip6Ha2gd",
        "outputId": "b0be5718-4f4d-4e38-d825-5f95d6ea12bd"
      },
      "execution_count": null,
      "outputs": [
        {
          "output_type": "stream",
          "name": "stdout",
          "text": [
            "Case 1: True\n",
            "V1 : 3 \n",
            "\n",
            "\n",
            "Case 2: True\n",
            "V2 : 2 \n",
            "\n",
            "\n",
            "Case 3: True\n",
            "V3 : 0 \n",
            "\n",
            "\n",
            "Case 4: True\n",
            "V4 : 0 \n",
            "\n",
            "\n"
          ]
        }
      ]
    }
  ]
}