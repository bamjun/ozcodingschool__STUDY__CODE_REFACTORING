{
 "cells": [
  {
   "cell_type": "markdown",
   "metadata": {},
   "source": [
    "# https://school.programmers.co.kr/learn/courses/30/lessons/250125"
   ]
  },
  {
   "cell_type": "code",
   "execution_count": 4,
   "metadata": {},
   "outputs": [
    {
     "name": "stdout",
     "output_type": "stream",
     "text": [
      "Case 1: True\n",
      "Result: 2 \n",
      "\n",
      "\n",
      "Case 2: True\n",
      "Result: 1 \n",
      "\n",
      "\n"
     ]
    }
   ],
   "source": [
    "def solution(board, h, w):\n",
    "    n = len(board)\n",
    "\n",
    "    count = 0\n",
    "\n",
    "    dh, dw = [0, 1, -1, 0], [1, 0, 0, -1]\n",
    "\n",
    "    for i in range(4):\n",
    "        h_check, w_check=h+dh[i], w+dw[i]\n",
    "        if n > h_check >= 0 and n > w_check >= 0:\n",
    "            if board[h][w] == board[h_check][w_check]:\n",
    "                count += 1\n",
    "\n",
    "\n",
    "    return count\n",
    "\n",
    "#▲▲▲▲▲▲▲▲▲▲▲▲▲▲▲▲▲▲▲▲▲▲▲▲▲▲▲▲▲▲▲▲▲▲▲▲▲▲▲▲▲▲▲▲▲▲▲▲▲▲▲▲▲▲▲▲▲▲▲▲▲▲▲▲▲▲▲▲▲▲▲▲▲▲▲▲▲▲▲▲\n",
    "# 입력 데이터\n",
    "boards = [\n",
    "    [[\"blue\", \"red\", \"orange\", \"red\"], [\"red\", \"red\", \"blue\", \"orange\"], [\"blue\", \"orange\", \"red\", \"red\"], [\"orange\", \"orange\", \"red\", \"blue\"]],\n",
    "    [[\"yellow\", \"green\", \"blue\"], [\"blue\", \"green\", \"yellow\"], [\"yellow\", \"blue\", \"blue\"]]\n",
    "]\n",
    "h_values = [1, 0]\n",
    "w_values = [1, 1]\n",
    "expected_results = [2, 1]\n",
    "\n",
    "# 각 경우에 대해 solution 함수를 실행하고 결과를 확인\n",
    "for i in range(len(boards)):\n",
    "    valueSolution = solution(boards[i], h_values[i], w_values[i])\n",
    "    is_correct = valueSolution == expected_results[i]\n",
    "    print(f\"Case {i+1}: {is_correct}\")\n",
    "    print(f\"Result: {valueSolution} \\n\\n\")\n"
   ]
  }
 ],
 "metadata": {
  "kernelspec": {
   "display_name": "Python 3",
   "language": "python",
   "name": "python3"
  },
  "language_info": {
   "codemirror_mode": {
    "name": "ipython",
    "version": 3
   },
   "file_extension": ".py",
   "mimetype": "text/x-python",
   "name": "python",
   "nbconvert_exporter": "python",
   "pygments_lexer": "ipython3",
   "version": "3.12.1"
  }
 },
 "nbformat": 4,
 "nbformat_minor": 2
}
